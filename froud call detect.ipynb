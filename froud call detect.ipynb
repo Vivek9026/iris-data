{
 "cells": [
  {
   "cell_type": "markdown",
   "id": "15faec8b",
   "metadata": {},
   "source": [
    "# TalkingData: Fraudulent Click Prediction\n",
    "In this notebook, we will apply various boosting algorithms to solve an interesting classification problem from the domain of 'digital fraud'.\n",
    "\n",
    "The analysis is divided into the following sections:\n",
    "\n",
    "Understanding the business problem\n",
    "Understanding and exploring the data\n",
    "Feature engineering: Creating new features\n",
    "Model building and evaluation: AdaBoost\n",
    "Modelling building and evaluation: Gradient Boosting\n",
    "Modelling building and evaluation: XGBoost"
   ]
  },
  {
   "cell_type": "markdown",
   "id": "e1159d5a",
   "metadata": {},
   "source": [
    "# Understanding the Business Problem\n",
    "TalkingData is a Chinese big data company, and one of their areas of expertise is mobile advertisements.\n",
    "\n",
    "In mobile advertisements, click fraud is a major source of losses. Click fraud is the practice of repeatedly clicking on an advertisement hosted on a website with the intention of generating revenue for the host website or draining revenue from the advertiser.\n",
    "\n",
    "In this case, TalkingData happens to be serving the advertisers (their clients). TalkingData cover a whopping approx. 70% of the active mobile devices in China, of which 90% are potentially fraudulent (i.e. the user is actually not going to download the app after clicking).\n",
    "\n",
    "You can imagine the amount of money they can help clients save if they are able to predict whether a given click is fraudulent (or equivalently, whether a given click will result in a download).\n",
    "\n",
    "Their current approach to solve this problem is that they've generated a blacklist of IP addresses - those IPs which produce lots of clicks, but never install any apps. Now, they want to try some advanced techniques to predict the probability of a click being genuine/fraud.\n",
    "\n",
    "In this problem, we will use the features associated with clicks, such as IP address, operating system, device type, time of click etc. to predict the probability of a click being fraud.\n",
    "\n",
    "They have released the problem on Kaggle here.."
   ]
  },
  {
   "cell_type": "code",
   "execution_count": null,
   "id": "3f2209db",
   "metadata": {},
   "outputs": [],
   "source": []
  },
  {
   "cell_type": "markdown",
   "id": "9f273597",
   "metadata": {},
   "source": [
    "# Understanding and Exploring the Data\n",
    "The data contains observations of about 240 million clicks, and whether a given click resulted in a download or not (1/0).\n",
    "\n",
    "On Kaggle, the data is split into train.csv and train_sample.csv (100,000 observations). We'll use the smaller train_sample.csv in this notebook for speed, though while training the model for Kaggle submissions, the full training data will obviously produce better results.\n",
    "\n",
    "The detailed data dictionary is mentioned here:\n",
    "\n",
    "ip: ip address of click.\n",
    "app: app id for marketing.\n",
    "device: device type id of user mobile phone (e.g., iphone 6 plus, iphone 7, huawei mate 7, etc.)\n",
    "os: os version id of user mobile phone\n",
    "channel: channel id of mobile ad publisher\n",
    "click_time: timestamp of click (UTC)\n",
    "attributed_time: if user download the app for after clicking an ad, this is the time of the app download\n",
    "is_attributed: the target that is to be predicted, indicating the app was downloaded\n",
    "Let's try finding some useful trends in the data."
   ]
  },
  {
   "cell_type": "code",
   "execution_count": 1,
   "id": "8046377b",
   "metadata": {},
   "outputs": [],
   "source": [
    "#read the data\n",
    "#describe data\n",
    "#find the relation\n",
    "#explore the univariant analysis\n",
    "#Feature Enginnering\n",
    "#modelling the data(train test split)"
   ]
  },
  {
   "cell_type": "code",
   "execution_count": 2,
   "id": "d8195e7c",
   "metadata": {},
   "outputs": [],
   "source": [
    "import numpy as np\n",
    "import pandas as pd\n",
    "import seaborn as sns\n",
    "import matplotlib.pyplot as plt"
   ]
  },
  {
   "cell_type": "code",
   "execution_count": 3,
   "id": "000b1447",
   "metadata": {},
   "outputs": [],
   "source": [
    "df=pd.read_csv(r'C:\\Users\\vivek\\Downloads/train_sample.csv')"
   ]
  },
  {
   "cell_type": "code",
   "execution_count": 4,
   "id": "4ede0c9f",
   "metadata": {},
   "outputs": [
    {
     "data": {
      "text/html": [
       "<div>\n",
       "<style scoped>\n",
       "    .dataframe tbody tr th:only-of-type {\n",
       "        vertical-align: middle;\n",
       "    }\n",
       "\n",
       "    .dataframe tbody tr th {\n",
       "        vertical-align: top;\n",
       "    }\n",
       "\n",
       "    .dataframe thead th {\n",
       "        text-align: right;\n",
       "    }\n",
       "</style>\n",
       "<table border=\"1\" class=\"dataframe\">\n",
       "  <thead>\n",
       "    <tr style=\"text-align: right;\">\n",
       "      <th></th>\n",
       "      <th>ip</th>\n",
       "      <th>app</th>\n",
       "      <th>device</th>\n",
       "      <th>os</th>\n",
       "      <th>channel</th>\n",
       "      <th>click_time</th>\n",
       "      <th>attributed_time</th>\n",
       "      <th>is_attributed</th>\n",
       "    </tr>\n",
       "  </thead>\n",
       "  <tbody>\n",
       "    <tr>\n",
       "      <th>0</th>\n",
       "      <td>87540</td>\n",
       "      <td>12</td>\n",
       "      <td>1</td>\n",
       "      <td>13</td>\n",
       "      <td>497</td>\n",
       "      <td>2017-11-07 09:30:38</td>\n",
       "      <td>NaN</td>\n",
       "      <td>0</td>\n",
       "    </tr>\n",
       "    <tr>\n",
       "      <th>1</th>\n",
       "      <td>105560</td>\n",
       "      <td>25</td>\n",
       "      <td>1</td>\n",
       "      <td>17</td>\n",
       "      <td>259</td>\n",
       "      <td>2017-11-07 13:40:27</td>\n",
       "      <td>NaN</td>\n",
       "      <td>0</td>\n",
       "    </tr>\n",
       "    <tr>\n",
       "      <th>2</th>\n",
       "      <td>101424</td>\n",
       "      <td>12</td>\n",
       "      <td>1</td>\n",
       "      <td>19</td>\n",
       "      <td>212</td>\n",
       "      <td>2017-11-07 18:05:24</td>\n",
       "      <td>NaN</td>\n",
       "      <td>0</td>\n",
       "    </tr>\n",
       "    <tr>\n",
       "      <th>3</th>\n",
       "      <td>94584</td>\n",
       "      <td>13</td>\n",
       "      <td>1</td>\n",
       "      <td>13</td>\n",
       "      <td>477</td>\n",
       "      <td>2017-11-07 04:58:08</td>\n",
       "      <td>NaN</td>\n",
       "      <td>0</td>\n",
       "    </tr>\n",
       "    <tr>\n",
       "      <th>4</th>\n",
       "      <td>68413</td>\n",
       "      <td>12</td>\n",
       "      <td>1</td>\n",
       "      <td>1</td>\n",
       "      <td>178</td>\n",
       "      <td>2017-11-09 09:00:09</td>\n",
       "      <td>NaN</td>\n",
       "      <td>0</td>\n",
       "    </tr>\n",
       "  </tbody>\n",
       "</table>\n",
       "</div>"
      ],
      "text/plain": [
       "       ip  app  device  os  channel           click_time attributed_time  \\\n",
       "0   87540   12       1  13      497  2017-11-07 09:30:38             NaN   \n",
       "1  105560   25       1  17      259  2017-11-07 13:40:27             NaN   \n",
       "2  101424   12       1  19      212  2017-11-07 18:05:24             NaN   \n",
       "3   94584   13       1  13      477  2017-11-07 04:58:08             NaN   \n",
       "4   68413   12       1   1      178  2017-11-09 09:00:09             NaN   \n",
       "\n",
       "   is_attributed  \n",
       "0              0  \n",
       "1              0  \n",
       "2              0  \n",
       "3              0  \n",
       "4              0  "
      ]
     },
     "execution_count": 4,
     "metadata": {},
     "output_type": "execute_result"
    }
   ],
   "source": [
    "df.head()"
   ]
  },
  {
   "cell_type": "markdown",
   "id": "623b87d0",
   "metadata": {},
   "source": []
  },
  {
   "cell_type": "code",
   "execution_count": 5,
   "id": "1c938356",
   "metadata": {},
   "outputs": [
    {
     "data": {
      "text/plain": [
       "ip                     0\n",
       "app                    0\n",
       "device                 0\n",
       "os                     0\n",
       "channel                0\n",
       "click_time             0\n",
       "attributed_time    99773\n",
       "is_attributed          0\n",
       "dtype: int64"
      ]
     },
     "execution_count": 5,
     "metadata": {},
     "output_type": "execute_result"
    }
   ],
   "source": [
    "#data missing value\n",
    "df.isnull().sum()"
   ]
  },
  {
   "cell_type": "code",
   "execution_count": 6,
   "id": "370f972e",
   "metadata": {},
   "outputs": [],
   "source": [
    "attributed_time=df['attributed_time'].mode"
   ]
  },
  {
   "cell_type": "code",
   "execution_count": 7,
   "id": "169bdd15",
   "metadata": {},
   "outputs": [],
   "source": [
    "df['attributed_time'].fillna(value=attributed_time,inplace=True)"
   ]
  },
  {
   "cell_type": "code",
   "execution_count": 8,
   "id": "884807ba",
   "metadata": {},
   "outputs": [
    {
     "data": {
      "text/plain": [
       "ip                 0\n",
       "app                0\n",
       "device             0\n",
       "os                 0\n",
       "channel            0\n",
       "click_time         0\n",
       "attributed_time    0\n",
       "is_attributed      0\n",
       "dtype: int64"
      ]
     },
     "execution_count": 8,
     "metadata": {},
     "output_type": "execute_result"
    }
   ],
   "source": [
    "df.isnull().sum()"
   ]
  },
  {
   "cell_type": "code",
   "execution_count": 9,
   "id": "fdb410b4",
   "metadata": {},
   "outputs": [
    {
     "data": {
      "text/plain": [
       "<AxesSubplot:>"
      ]
     },
     "execution_count": 9,
     "metadata": {},
     "output_type": "execute_result"
    },
    {
     "data": {
      "image/png": "[encoded data removed]",
      "text/plain": [
       "<Figure size 432x288 with 2 Axes>"
      ]
     },
     "metadata": {
      "needs_background": "light"
     },
     "output_type": "display_data"
    }
   ],
   "source": [
    "sns.heatmap(df.isnull())"
   ]
  },
  {
   "cell_type": "code",
   "execution_count": 10,
   "id": "e512647c",
   "metadata": {},
   "outputs": [
    {
     "data": {
      "text/plain": [
       "<AxesSubplot:>"
      ]
     },
     "execution_count": 10,
     "metadata": {},
     "output_type": "execute_result"
    },
    {
     "data": {
      "image/png": "[encoded data removed]",
      "text/plain": [
       "<Figure size 432x288 with 2 Axes>"
      ]
     },
     "metadata": {
      "needs_background": "light"
     },
     "output_type": "display_data"
    }
   ],
   "source": [
    "sns.heatmap(df.corr())"
   ]
  },
  {
   "cell_type": "code",
   "execution_count": 11,
   "id": "9707885f",
   "metadata": {},
   "outputs": [
    {
     "data": {
      "text/html": [
       "<div>\n",
       "<style scoped>\n",
       "    .dataframe tbody tr th:only-of-type {\n",
       "        vertical-align: middle;\n",
       "    }\n",
       "\n",
       "    .dataframe tbody tr th {\n",
       "        vertical-align: top;\n",
       "    }\n",
       "\n",
       "    .dataframe thead th {\n",
       "        text-align: right;\n",
       "    }\n",
       "</style>\n",
       "<table border=\"1\" class=\"dataframe\">\n",
       "  <thead>\n",
       "    <tr style=\"text-align: right;\">\n",
       "      <th></th>\n",
       "      <th>ip</th>\n",
       "      <th>app</th>\n",
       "      <th>device</th>\n",
       "      <th>os</th>\n",
       "      <th>channel</th>\n",
       "      <th>is_attributed</th>\n",
       "    </tr>\n",
       "  </thead>\n",
       "  <tbody>\n",
       "    <tr>\n",
       "      <th>ip</th>\n",
       "      <td>1.000000</td>\n",
       "      <td>0.010400</td>\n",
       "      <td>-0.001499</td>\n",
       "      <td>-0.000470</td>\n",
       "      <td>0.007563</td>\n",
       "      <td>0.054955</td>\n",
       "    </tr>\n",
       "    <tr>\n",
       "      <th>app</th>\n",
       "      <td>0.010400</td>\n",
       "      <td>1.000000</td>\n",
       "      <td>0.248376</td>\n",
       "      <td>0.247160</td>\n",
       "      <td>-0.028238</td>\n",
       "      <td>0.064426</td>\n",
       "    </tr>\n",
       "    <tr>\n",
       "      <th>device</th>\n",
       "      <td>-0.001499</td>\n",
       "      <td>0.248376</td>\n",
       "      <td>1.000000</td>\n",
       "      <td>0.924456</td>\n",
       "      <td>-0.035398</td>\n",
       "      <td>-0.000695</td>\n",
       "    </tr>\n",
       "    <tr>\n",
       "      <th>os</th>\n",
       "      <td>-0.000470</td>\n",
       "      <td>0.247160</td>\n",
       "      <td>0.924456</td>\n",
       "      <td>1.000000</td>\n",
       "      <td>-0.033175</td>\n",
       "      <td>0.006183</td>\n",
       "    </tr>\n",
       "    <tr>\n",
       "      <th>channel</th>\n",
       "      <td>0.007563</td>\n",
       "      <td>-0.028238</td>\n",
       "      <td>-0.035398</td>\n",
       "      <td>-0.033175</td>\n",
       "      <td>1.000000</td>\n",
       "      <td>-0.023336</td>\n",
       "    </tr>\n",
       "    <tr>\n",
       "      <th>is_attributed</th>\n",
       "      <td>0.054955</td>\n",
       "      <td>0.064426</td>\n",
       "      <td>-0.000695</td>\n",
       "      <td>0.006183</td>\n",
       "      <td>-0.023336</td>\n",
       "      <td>1.000000</td>\n",
       "    </tr>\n",
       "  </tbody>\n",
       "</table>\n",
       "</div>"
      ],
      "text/plain": [
       "                     ip       app    device        os   channel  is_attributed\n",
       "ip             1.000000  0.010400 -0.001499 -0.000470  0.007563       0.054955\n",
       "app            0.010400  1.000000  0.248376  0.247160 -0.028238       0.064426\n",
       "device        -0.001499  0.248376  1.000000  0.924456 -0.035398      -0.000695\n",
       "os            -0.000470  0.247160  0.924456  1.000000 -0.033175       0.006183\n",
       "channel        0.007563 -0.028238 -0.035398 -0.033175  1.000000      -0.023336\n",
       "is_attributed  0.054955  0.064426 -0.000695  0.006183 -0.023336       1.000000"
      ]
     },
     "execution_count": 11,
     "metadata": {},
     "output_type": "execute_result"
    }
   ],
   "source": [
    "df.corr()"
   ]
  },
  {
   "cell_type": "code",
   "execution_count": 12,
   "id": "b1def651",
   "metadata": {},
   "outputs": [
    {
     "data": {
      "text/html": [
       "<div>\n",
       "<style scoped>\n",
       "    .dataframe tbody tr th:only-of-type {\n",
       "        vertical-align: middle;\n",
       "    }\n",
       "\n",
       "    .dataframe tbody tr th {\n",
       "        vertical-align: top;\n",
       "    }\n",
       "\n",
       "    .dataframe thead th {\n",
       "        text-align: right;\n",
       "    }\n",
       "</style>\n",
       "<table border=\"1\" class=\"dataframe\">\n",
       "  <thead>\n",
       "    <tr style=\"text-align: right;\">\n",
       "      <th></th>\n",
       "      <th>ip</th>\n",
       "      <th>app</th>\n",
       "      <th>device</th>\n",
       "      <th>os</th>\n",
       "      <th>channel</th>\n",
       "      <th>is_attributed</th>\n",
       "    </tr>\n",
       "  </thead>\n",
       "  <tbody>\n",
       "    <tr>\n",
       "      <th>count</th>\n",
       "      <td>100000.000000</td>\n",
       "      <td>100000.00000</td>\n",
       "      <td>100000.000000</td>\n",
       "      <td>100000.000000</td>\n",
       "      <td>100000.000000</td>\n",
       "      <td>100000.000000</td>\n",
       "    </tr>\n",
       "    <tr>\n",
       "      <th>mean</th>\n",
       "      <td>91255.879670</td>\n",
       "      <td>12.04788</td>\n",
       "      <td>21.771250</td>\n",
       "      <td>22.818280</td>\n",
       "      <td>268.832460</td>\n",
       "      <td>0.002270</td>\n",
       "    </tr>\n",
       "    <tr>\n",
       "      <th>std</th>\n",
       "      <td>69835.553661</td>\n",
       "      <td>14.94150</td>\n",
       "      <td>259.667767</td>\n",
       "      <td>55.943136</td>\n",
       "      <td>129.724248</td>\n",
       "      <td>0.047591</td>\n",
       "    </tr>\n",
       "    <tr>\n",
       "      <th>min</th>\n",
       "      <td>9.000000</td>\n",
       "      <td>1.00000</td>\n",
       "      <td>0.000000</td>\n",
       "      <td>0.000000</td>\n",
       "      <td>3.000000</td>\n",
       "      <td>0.000000</td>\n",
       "    </tr>\n",
       "    <tr>\n",
       "      <th>25%</th>\n",
       "      <td>40552.000000</td>\n",
       "      <td>3.00000</td>\n",
       "      <td>1.000000</td>\n",
       "      <td>13.000000</td>\n",
       "      <td>145.000000</td>\n",
       "      <td>0.000000</td>\n",
       "    </tr>\n",
       "    <tr>\n",
       "      <th>50%</th>\n",
       "      <td>79827.000000</td>\n",
       "      <td>12.00000</td>\n",
       "      <td>1.000000</td>\n",
       "      <td>18.000000</td>\n",
       "      <td>258.000000</td>\n",
       "      <td>0.000000</td>\n",
       "    </tr>\n",
       "    <tr>\n",
       "      <th>75%</th>\n",
       "      <td>118252.000000</td>\n",
       "      <td>15.00000</td>\n",
       "      <td>1.000000</td>\n",
       "      <td>19.000000</td>\n",
       "      <td>379.000000</td>\n",
       "      <td>0.000000</td>\n",
       "    </tr>\n",
       "    <tr>\n",
       "      <th>max</th>\n",
       "      <td>364757.000000</td>\n",
       "      <td>551.00000</td>\n",
       "      <td>3867.000000</td>\n",
       "      <td>866.000000</td>\n",
       "      <td>498.000000</td>\n",
       "      <td>1.000000</td>\n",
       "    </tr>\n",
       "  </tbody>\n",
       "</table>\n",
       "</div>"
      ],
      "text/plain": [
       "                  ip           app         device             os  \\\n",
       "count  100000.000000  100000.00000  100000.000000  100000.000000   \n",
       "mean    91255.879670      12.04788      21.771250      22.818280   \n",
       "std     69835.553661      14.94150     259.667767      55.943136   \n",
       "min         9.000000       1.00000       0.000000       0.000000   \n",
       "25%     40552.000000       3.00000       1.000000      13.000000   \n",
       "50%     79827.000000      12.00000       1.000000      18.000000   \n",
       "75%    118252.000000      15.00000       1.000000      19.000000   \n",
       "max    364757.000000     551.00000    3867.000000     866.000000   \n",
       "\n",
       "             channel  is_attributed  \n",
       "count  100000.000000  100000.000000  \n",
       "mean      268.832460       0.002270  \n",
       "std       129.724248       0.047591  \n",
       "min         3.000000       0.000000  \n",
       "25%       145.000000       0.000000  \n",
       "50%       258.000000       0.000000  \n",
       "75%       379.000000       0.000000  \n",
       "max       498.000000       1.000000  "
      ]
     },
     "execution_count": 12,
     "metadata": {},
     "output_type": "execute_result"
    }
   ],
   "source": [
    "df.describe()"
   ]
  },
  {
   "cell_type": "code",
   "execution_count": 13,
   "id": "d5fd897c",
   "metadata": {},
   "outputs": [
    {
     "data": {
      "text/plain": [
       "0    99773\n",
       "1      227\n",
       "Name: is_attributed, dtype: int64"
      ]
     },
     "execution_count": 13,
     "metadata": {},
     "output_type": "execute_result"
    }
   ],
   "source": [
    "df.is_attributed.value_counts()"
   ]
  },
  {
   "cell_type": "code",
   "execution_count": 14,
   "id": "ddf8665c",
   "metadata": {},
   "outputs": [
    {
     "data": {
      "text/plain": [
       "2017-11-08 12:01:02    7\n",
       "2017-11-07 05:00:11    6\n",
       "2017-11-09 14:46:23    6\n",
       "2017-11-07 04:36:16    6\n",
       "2017-11-08 13:32:05    6\n",
       "                      ..\n",
       "2017-11-07 08:31:55    1\n",
       "2017-11-08 23:35:15    1\n",
       "2017-11-08 10:01:33    1\n",
       "2017-11-09 11:01:52    1\n",
       "2017-11-09 13:25:41    1\n",
       "Name: click_time, Length: 80350, dtype: int64"
      ]
     },
     "execution_count": 14,
     "metadata": {},
     "output_type": "execute_result"
    }
   ],
   "source": [
    "df.click_time.value_counts()"
   ]
  },
  {
   "cell_type": "code",
   "execution_count": 15,
   "id": "c09ead15",
   "metadata": {},
   "outputs": [
    {
     "name": "stdout",
     "output_type": "stream",
     "text": [
      "<class 'pandas.core.frame.DataFrame'>\n",
      "RangeIndex: 100000 entries, 0 to 99999\n",
      "Data columns (total 8 columns):\n",
      " #   Column           Non-Null Count   Dtype \n",
      "---  ------           --------------   ----- \n",
      " 0   ip               100000 non-null  int64 \n",
      " 1   app              100000 non-null  int64 \n",
      " 2   device           100000 non-null  int64 \n",
      " 3   os               100000 non-null  int64 \n",
      " 4   channel          100000 non-null  int64 \n",
      " 5   click_time       100000 non-null  object\n",
      " 6   attributed_time  100000 non-null  object\n",
      " 7   is_attributed    100000 non-null  int64 \n",
      "dtypes: int64(6), object(2)\n",
      "memory usage: 6.1+ MB\n"
     ]
    }
   ],
   "source": [
    "df.info()"
   ]
  },
  {
   "cell_type": "code",
   "execution_count": 16,
   "id": "ec728101",
   "metadata": {},
   "outputs": [
    {
     "data": {
      "text/plain": [
       "(100000, 8)"
      ]
     },
     "execution_count": 16,
     "metadata": {},
     "output_type": "execute_result"
    }
   ],
   "source": [
    "df.shape"
   ]
  },
  {
   "cell_type": "code",
   "execution_count": 17,
   "id": "b6c934fa",
   "metadata": {},
   "outputs": [],
   "source": [
    "from sklearn.preprocessing import OrdinalEncoder"
   ]
  },
  {
   "cell_type": "code",
   "execution_count": 18,
   "id": "d1487f49",
   "metadata": {},
   "outputs": [],
   "source": [
    "Oc=OrdinalEncoder()"
   ]
  },
  {
   "cell_type": "code",
   "execution_count": 19,
   "id": "531be533",
   "metadata": {},
   "outputs": [
    {
     "data": {
      "text/plain": [
       "OrdinalEncoder()"
      ]
     },
     "execution_count": 19,
     "metadata": {},
     "output_type": "execute_result"
    }
   ],
   "source": [
    "Oc"
   ]
  },
  {
   "cell_type": "code",
   "execution_count": 20,
   "id": "385fe674",
   "metadata": {},
   "outputs": [],
   "source": [
    "df['click_time1']=Oc.fit_transform((df[['click_time']]))"
   ]
  },
  {
   "cell_type": "code",
   "execution_count": 21,
   "id": "57c48e62",
   "metadata": {},
   "outputs": [
    {
     "data": {
      "text/html": [
       "<div>\n",
       "<style scoped>\n",
       "    .dataframe tbody tr th:only-of-type {\n",
       "        vertical-align: middle;\n",
       "    }\n",
       "\n",
       "    .dataframe tbody tr th {\n",
       "        vertical-align: top;\n",
       "    }\n",
       "\n",
       "    .dataframe thead th {\n",
       "        text-align: right;\n",
       "    }\n",
       "</style>\n",
       "<table border=\"1\" class=\"dataframe\">\n",
       "  <thead>\n",
       "    <tr style=\"text-align: right;\">\n",
       "      <th></th>\n",
       "      <th>click_time</th>\n",
       "      <th>click_time1</th>\n",
       "    </tr>\n",
       "  </thead>\n",
       "  <tbody>\n",
       "    <tr>\n",
       "      <th>0</th>\n",
       "      <td>2017-11-07 09:30:38</td>\n",
       "      <td>17415.0</td>\n",
       "    </tr>\n",
       "    <tr>\n",
       "      <th>1</th>\n",
       "      <td>2017-11-07 13:40:27</td>\n",
       "      <td>23123.0</td>\n",
       "    </tr>\n",
       "    <tr>\n",
       "      <th>2</th>\n",
       "      <td>2017-11-07 18:05:24</td>\n",
       "      <td>27844.0</td>\n",
       "    </tr>\n",
       "    <tr>\n",
       "      <th>3</th>\n",
       "      <td>2017-11-07 04:58:08</td>\n",
       "      <td>11508.0</td>\n",
       "    </tr>\n",
       "    <tr>\n",
       "      <th>4</th>\n",
       "      <td>2017-11-09 09:00:09</td>\n",
       "      <td>70545.0</td>\n",
       "    </tr>\n",
       "    <tr>\n",
       "      <th>...</th>\n",
       "      <td>...</td>\n",
       "      <td>...</td>\n",
       "    </tr>\n",
       "    <tr>\n",
       "      <th>99995</th>\n",
       "      <td>2017-11-09 13:25:41</td>\n",
       "      <td>76690.0</td>\n",
       "    </tr>\n",
       "    <tr>\n",
       "      <th>99996</th>\n",
       "      <td>2017-11-07 11:25:43</td>\n",
       "      <td>20091.0</td>\n",
       "    </tr>\n",
       "    <tr>\n",
       "      <th>99997</th>\n",
       "      <td>2017-11-08 11:38:42</td>\n",
       "      <td>46757.0</td>\n",
       "    </tr>\n",
       "    <tr>\n",
       "      <th>99998</th>\n",
       "      <td>2017-11-08 17:55:21</td>\n",
       "      <td>54934.0</td>\n",
       "    </tr>\n",
       "    <tr>\n",
       "      <th>99999</th>\n",
       "      <td>2017-11-07 14:32:27</td>\n",
       "      <td>24332.0</td>\n",
       "    </tr>\n",
       "  </tbody>\n",
       "</table>\n",
       "<p>100000 rows × 2 columns</p>\n",
       "</div>"
      ],
      "text/plain": [
       "                click_time  click_time1\n",
       "0      2017-11-07 09:30:38      17415.0\n",
       "1      2017-11-07 13:40:27      23123.0\n",
       "2      2017-11-07 18:05:24      27844.0\n",
       "3      2017-11-07 04:58:08      11508.0\n",
       "4      2017-11-09 09:00:09      70545.0\n",
       "...                    ...          ...\n",
       "99995  2017-11-09 13:25:41      76690.0\n",
       "99996  2017-11-07 11:25:43      20091.0\n",
       "99997  2017-11-08 11:38:42      46757.0\n",
       "99998  2017-11-08 17:55:21      54934.0\n",
       "99999  2017-11-07 14:32:27      24332.0\n",
       "\n",
       "[100000 rows x 2 columns]"
      ]
     },
     "execution_count": 21,
     "metadata": {},
     "output_type": "execute_result"
    }
   ],
   "source": [
    "df[['click_time','click_time1']].head(100000)"
   ]
  },
  {
   "cell_type": "code",
   "execution_count": 22,
   "id": "2697a078",
   "metadata": {},
   "outputs": [],
   "source": [
    "#df.dropna(axis='columns',inplace=True)"
   ]
  },
  {
   "cell_type": "code",
   "execution_count": 23,
   "id": "13ed719a",
   "metadata": {},
   "outputs": [],
   "source": [
    "from sklearn.model_selection import train_test_split"
   ]
  },
  {
   "cell_type": "code",
   "execution_count": 24,
   "id": "8ccf2524",
   "metadata": {},
   "outputs": [],
   "source": [
    "#X=df.drop(['is_attributed','click_time'],axis=1)"
   ]
  },
  {
   "cell_type": "code",
   "execution_count": 27,
   "id": "f57de703",
   "metadata": {},
   "outputs": [],
   "source": [
    "X=df.iloc[:,0:5]"
   ]
  },
  {
   "cell_type": "code",
   "execution_count": 28,
   "id": "11bd4a05",
   "metadata": {},
   "outputs": [
    {
     "data": {
      "text/html": [
       "<div>\n",
       "<style scoped>\n",
       "    .dataframe tbody tr th:only-of-type {\n",
       "        vertical-align: middle;\n",
       "    }\n",
       "\n",
       "    .dataframe tbody tr th {\n",
       "        vertical-align: top;\n",
       "    }\n",
       "\n",
       "    .dataframe thead th {\n",
       "        text-align: right;\n",
       "    }\n",
       "</style>\n",
       "<table border=\"1\" class=\"dataframe\">\n",
       "  <thead>\n",
       "    <tr style=\"text-align: right;\">\n",
       "      <th></th>\n",
       "      <th>ip</th>\n",
       "      <th>app</th>\n",
       "      <th>device</th>\n",
       "      <th>os</th>\n",
       "      <th>channel</th>\n",
       "    </tr>\n",
       "  </thead>\n",
       "  <tbody>\n",
       "    <tr>\n",
       "      <th>0</th>\n",
       "      <td>87540</td>\n",
       "      <td>12</td>\n",
       "      <td>1</td>\n",
       "      <td>13</td>\n",
       "      <td>497</td>\n",
       "    </tr>\n",
       "    <tr>\n",
       "      <th>1</th>\n",
       "      <td>105560</td>\n",
       "      <td>25</td>\n",
       "      <td>1</td>\n",
       "      <td>17</td>\n",
       "      <td>259</td>\n",
       "    </tr>\n",
       "    <tr>\n",
       "      <th>2</th>\n",
       "      <td>101424</td>\n",
       "      <td>12</td>\n",
       "      <td>1</td>\n",
       "      <td>19</td>\n",
       "      <td>212</td>\n",
       "    </tr>\n",
       "    <tr>\n",
       "      <th>3</th>\n",
       "      <td>94584</td>\n",
       "      <td>13</td>\n",
       "      <td>1</td>\n",
       "      <td>13</td>\n",
       "      <td>477</td>\n",
       "    </tr>\n",
       "    <tr>\n",
       "      <th>4</th>\n",
       "      <td>68413</td>\n",
       "      <td>12</td>\n",
       "      <td>1</td>\n",
       "      <td>1</td>\n",
       "      <td>178</td>\n",
       "    </tr>\n",
       "    <tr>\n",
       "      <th>...</th>\n",
       "      <td>...</td>\n",
       "      <td>...</td>\n",
       "      <td>...</td>\n",
       "      <td>...</td>\n",
       "      <td>...</td>\n",
       "    </tr>\n",
       "    <tr>\n",
       "      <th>99995</th>\n",
       "      <td>124883</td>\n",
       "      <td>11</td>\n",
       "      <td>1</td>\n",
       "      <td>19</td>\n",
       "      <td>122</td>\n",
       "    </tr>\n",
       "    <tr>\n",
       "      <th>99996</th>\n",
       "      <td>85150</td>\n",
       "      <td>9</td>\n",
       "      <td>1</td>\n",
       "      <td>13</td>\n",
       "      <td>244</td>\n",
       "    </tr>\n",
       "    <tr>\n",
       "      <th>99997</th>\n",
       "      <td>18839</td>\n",
       "      <td>3</td>\n",
       "      <td>1</td>\n",
       "      <td>13</td>\n",
       "      <td>19</td>\n",
       "    </tr>\n",
       "    <tr>\n",
       "      <th>99998</th>\n",
       "      <td>114276</td>\n",
       "      <td>15</td>\n",
       "      <td>1</td>\n",
       "      <td>12</td>\n",
       "      <td>245</td>\n",
       "    </tr>\n",
       "    <tr>\n",
       "      <th>99999</th>\n",
       "      <td>119349</td>\n",
       "      <td>14</td>\n",
       "      <td>1</td>\n",
       "      <td>15</td>\n",
       "      <td>401</td>\n",
       "    </tr>\n",
       "  </tbody>\n",
       "</table>\n",
       "<p>100000 rows × 5 columns</p>\n",
       "</div>"
      ],
      "text/plain": [
       "           ip  app  device  os  channel\n",
       "0       87540   12       1  13      497\n",
       "1      105560   25       1  17      259\n",
       "2      101424   12       1  19      212\n",
       "3       94584   13       1  13      477\n",
       "4       68413   12       1   1      178\n",
       "...       ...  ...     ...  ..      ...\n",
       "99995  124883   11       1  19      122\n",
       "99996   85150    9       1  13      244\n",
       "99997   18839    3       1  13       19\n",
       "99998  114276   15       1  12      245\n",
       "99999  119349   14       1  15      401\n",
       "\n",
       "[100000 rows x 5 columns]"
      ]
     },
     "execution_count": 28,
     "metadata": {},
     "output_type": "execute_result"
    }
   ],
   "source": [
    "X"
   ]
  },
  {
   "cell_type": "code",
   "execution_count": 29,
   "id": "6b69b152",
   "metadata": {},
   "outputs": [],
   "source": [
    "y=df.is_attributed"
   ]
  },
  {
   "cell_type": "code",
   "execution_count": 30,
   "id": "5a05e7b2",
   "metadata": {},
   "outputs": [
    {
     "data": {
      "text/plain": [
       "0        0\n",
       "1        0\n",
       "2        0\n",
       "3        0\n",
       "4        0\n",
       "        ..\n",
       "99995    0\n",
       "99996    0\n",
       "99997    0\n",
       "99998    0\n",
       "99999    0\n",
       "Name: is_attributed, Length: 100000, dtype: int64"
      ]
     },
     "execution_count": 30,
     "metadata": {},
     "output_type": "execute_result"
    }
   ],
   "source": [
    "y"
   ]
  },
  {
   "cell_type": "code",
   "execution_count": 32,
   "id": "9647ee48",
   "metadata": {},
   "outputs": [],
   "source": [
    "from sklearn.preprocessing import StandardScaler\n"
   ]
  },
  {
   "cell_type": "code",
   "execution_count": 33,
   "id": "aa4c0837",
   "metadata": {},
   "outputs": [],
   "source": [
    "scaler=StandardScaler()"
   ]
  },
  {
   "cell_type": "code",
   "execution_count": 35,
   "id": "1d2c0e44",
   "metadata": {},
   "outputs": [],
   "source": [
    "scaled=scaler.fit_transform(X)"
   ]
  },
  {
   "cell_type": "code",
   "execution_count": 36,
   "id": "11b6bf01",
   "metadata": {},
   "outputs": [
    {
     "data": {
      "text/plain": [
       "array([[-0.05320926, -0.00320451, -0.07999204, -0.17550552,  1.75887457],\n",
       "       [ 0.20482678,  0.86685974, -0.07999204, -0.10400399, -0.07579546],\n",
       "       [ 0.14560164, -0.00320451, -0.07999204, -0.06825322, -0.43810425],\n",
       "       ...,\n",
       "       [-1.03696811, -0.60555669, -0.07999204, -0.17550552, -1.92588288],\n",
       "       [ 0.3296349 ,  0.19757955, -0.07999204, -0.1933809 , -0.18371723],\n",
       "       [ 0.40227734,  0.13065153, -0.07999204, -0.13975475,  1.0188396 ]])"
      ]
     },
     "execution_count": 36,
     "metadata": {},
     "output_type": "execute_result"
    }
   ],
   "source": [
    "scaled"
   ]
  },
  {
   "cell_type": "code",
   "execution_count": 37,
   "id": "c329165b",
   "metadata": {},
   "outputs": [],
   "source": [
    "X_train,X_test,y_train,y_test=train_test_split(Xscaled,y,test_size=0.3,random_state=101)"
   ]
  },
  {
   "cell_type": "code",
   "execution_count": 38,
   "id": "b8e856bf",
   "metadata": {},
   "outputs": [],
   "source": [
    "from sklearn.tree import DecisionTreeClassifier"
   ]
  },
  {
   "cell_type": "code",
   "execution_count": 39,
   "id": "57ee7dca",
   "metadata": {},
   "outputs": [],
   "source": [
    "treemodel=DecisionTreeClassifier(max_depth=2)"
   ]
  },
  {
   "cell_type": "code",
   "execution_count": 40,
   "id": "33184e67",
   "metadata": {},
   "outputs": [
    {
     "data": {
      "text/plain": [
       "DecisionTreeClassifier(max_depth=2)"
      ]
     },
     "execution_count": 40,
     "metadata": {},
     "output_type": "execute_result"
    }
   ],
   "source": [
    "treemodel.fit(X_train,y_train)"
   ]
  },
  {
   "cell_type": "code",
   "execution_count": 41,
   "id": "9fe88505",
   "metadata": {},
   "outputs": [
    {
     "data": {
      "text/plain": [
       "[Text(0.5, 0.8333333333333334, 'X[2] <= -0.082\\ngini = 0.005\\nsamples = 70000\\nvalue = [69842, 158]'),\n",
       " Text(0.25, 0.5, 'X[0] <= 2.015\\ngini = 0.176\\nsamples = 370\\nvalue = [334, 36]'),\n",
       " Text(0.125, 0.16666666666666666, 'gini = 0.136\\nsamples = 327\\nvalue = [303, 24]'),\n",
       " Text(0.375, 0.16666666666666666, 'gini = 0.402\\nsamples = 43\\nvalue = [31, 12]'),\n",
       " Text(0.75, 0.5, 'X[1] <= 1.101\\ngini = 0.003\\nsamples = 69630\\nvalue = [69508, 122]'),\n",
       " Text(0.625, 0.16666666666666666, 'gini = 0.002\\nsamples = 67671\\nvalue = [67612, 59]'),\n",
       " Text(0.875, 0.16666666666666666, 'gini = 0.062\\nsamples = 1959\\nvalue = [1896, 63]')]"
      ]
     },
     "execution_count": 41,
     "metadata": {},
     "output_type": "execute_result"
    },
    {
     "data": {
      "image/png": "[encoded data removed]",
      "text/plain": [
       "<Figure size 1152x720 with 1 Axes>"
      ]
     },
     "metadata": {
      "needs_background": "light"
     },
     "output_type": "display_data"
    }
   ],
   "source": [
    "from sklearn import tree\n",
    "plt.figure(figsize=(16,10))\n",
    "tree.plot_tree(treemodel,filled=True)"
   ]
  },
  {
   "cell_type": "code",
   "execution_count": 42,
   "id": "52991de1",
   "metadata": {},
   "outputs": [],
   "source": [
    "y_pred=treemodel.predict(X_test)"
   ]
  },
  {
   "cell_type": "code",
   "execution_count": 43,
   "id": "fe691d67",
   "metadata": {},
   "outputs": [],
   "source": [
    "from sklearn.metrics import classification_report,accuracy_score"
   ]
  },
  {
   "cell_type": "code",
   "execution_count": 44,
   "id": "ef5e30ac",
   "metadata": {},
   "outputs": [
    {
     "data": {
      "text/plain": [
       "0.9977"
      ]
     },
     "execution_count": 44,
     "metadata": {},
     "output_type": "execute_result"
    }
   ],
   "source": [
    "accuracy_score(y_pred,y_test)"
   ]
  },
  {
   "cell_type": "code",
   "execution_count": null,
   "id": "5fa40d8c",
   "metadata": {},
   "outputs": [],
   "source": []
  }
 ],
 "metadata": {
  "kernelspec": {
   "display_name": "Python 3 (ipykernel)",
   "language": "python",
   "name": "python3"
  },
  "language_info": {
   "codemirror_mode": {
    "name": "ipython",
    "version": 3
   },
   "file_extension": ".py",
   "mimetype": "text/x-python",
   "name": "python",
   "nbconvert_exporter": "python",
   "pygments_lexer": "ipython3",
   "version": "3.9.12"
  }
 },
 "nbformat": 4,
 "nbformat_minor": 5
}
